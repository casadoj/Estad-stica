{
 "cells": [
  {
   "cell_type": "code",
   "execution_count": null,
   "metadata": {},
   "outputs": [],
   "source": [
    "import os\n",
    "rutaBase = os.getcwd() + '\\\\'"
   ]
  },
  {
   "cell_type": "code",
   "execution_count": null,
   "metadata": {},
   "outputs": [],
   "source": [
    "import numpy as np\n",
    "import pandas as pd\n",
    "import matplotlib.pyplot as plt\n",
    "import seaborn as sns\n",
    "sns.set(context='notebook', style='darkgrid')\n",
    "plt.style.use(\"dark_background\")\n",
    "from datetime import datetime, timedelta\n",
    "from statsmodels.distributions.empirical_distribution import ECDF"
   ]
  },
  {
   "cell_type": "code",
   "execution_count": null,
   "metadata": {},
   "outputs": [],
   "source": [
    "from scipy.stats import gamma, expon"
   ]
  },
  {
   "cell_type": "code",
   "execution_count": null,
   "metadata": {},
   "outputs": [],
   "source": [
    "# cargar serie de datos brutos\n",
    "raw = pd.read_csv('../data/Serie_raw.csv', parse_dates=True, index_col=0)\n",
    "modRaw = raw.iloc[:,0].values\n",
    "\n",
    "# cargar series de datos observados y del modelo en el periodo observado\n",
    "obs_mod = pd.read_csv('../data/Serie_obs_mod.csv', parse_dates=True, index_col=0)\n",
    "obs = obs_mod.Rain.values\n",
    "modHist = obs_mod.iloc[:, 0].values"
   ]
  },
  {
   "cell_type": "markdown",
   "metadata": {},
   "source": [
    "### Observación"
   ]
  },
  {
   "cell_type": "code",
   "execution_count": null,
   "metadata": {},
   "outputs": [],
   "source": [
    "class mixedCDF:\n",
    "    def __init__(self, rawdata, distr):\n",
    "        self.rawdata = rawdata\n",
    "        self.distr = distr\n",
    "        \n",
    "        # serie de valores mayores de 0\n",
    "        self.data = self.rawdata[rawdata > 0]\n",
    "        \n",
    "        # probabilidad de día seco\n",
    "        self.Po = 1 - len(self.data) / len(rawdata)\n",
    "        \n",
    "        # ajuste de la distribución a los dias con lluvia\n",
    "        self.pars = self.distr.fit(self.data)\n",
    "        self.qs_ = np.linspace(0, 1 - 1e-5, 1e5)\n",
    "        self.xs_ = self.distr.ppf(self.qs_, *self.pars)\n",
    "        \n",
    "        # ajustar la CDF empírica a los días con lluvia\n",
    "        ecdf_ = ECDF(self.data)\n",
    "        self.qecdf_ = ecdf_(self.data)\n",
    "        \n",
    "        # ajustar la CDF empírica a los días con lluvia\n",
    "        ecdf = ECDF(rawdata)\n",
    "        self.qecdf = ecdf(rawdata)\n",
    "        \n",
    "        # CDF mixta\n",
    "        qs = self.Po + (1 - self.Po) * self.qs_\n",
    "        self.qs = np.concatenate((np.array([0, self.Po]), qs))\n",
    "        self.xs = np.concatenate((np.zeros(2), self.xs_))\n",
    "        \n",
    "    def plotCDF(self):\n",
    "        \n",
    "        fig, ax = plt.subplots(ncols=2, figsize=(10, 4.5), sharey=True)\n",
    "        \n",
    "        # gráfica de la CDF para los días de lluvia\n",
    "        ax[0].plot(self.xs_, self.qs_, label='Gamma')\n",
    "        ax[0].scatter(self.data, self.qecdf_, s=.5, c='k', label='ECDF')\n",
    "        ax[0].set_title('dias con precipitación')\n",
    "        ax[0].set(ylim=(0, 1.01), ylabel='CDF')\n",
    "        ax[0].legend(loc=4);\n",
    "        \n",
    "        # gráfica de la CDF con todos los días (lluvia + secos)\n",
    "        ax[1].plot(self.xs, self.qs, label='Gamma')\n",
    "        ax[1].scatter(self.rawdata, self.qecdf, s=.5, c='k', label='ECDF')\n",
    "        ax[1].hlines(self.Po, 0, max(np.max(self.qecdf), np.max(self.rawdata)),\n",
    "                     color='grey', ls=':')\n",
    "        ax[1].set_title('todos los días')\n",
    "        ax[1].legend(loc=4);"
   ]
  },
  {
   "cell_type": "markdown",
   "metadata": {},
   "source": [
    "<font color='indianred'> Probar función exponencial en vez de la gamma.</font>"
   ]
  },
  {
   "cell_type": "markdown",
   "metadata": {},
   "source": [
    "__Observaciones__"
   ]
  },
  {
   "cell_type": "code",
   "execution_count": null,
   "metadata": {},
   "outputs": [],
   "source": [
    "cdfObs = mixedCDF(obs, gamma)\n",
    "cdfObs.plotCDF()"
   ]
  },
  {
   "cell_type": "markdown",
   "metadata": {},
   "source": [
    "__Modelo en el perido observado__"
   ]
  },
  {
   "cell_type": "code",
   "execution_count": null,
   "metadata": {},
   "outputs": [],
   "source": [
    "cdfHist = mixedCDF(modHist, gamma)\n",
    "cdfHist.plotCDF()"
   ]
  },
  {
   "cell_type": "markdown",
   "metadata": {},
   "source": [
    "__Modelo en el periodo no observado__"
   ]
  },
  {
   "cell_type": "code",
   "execution_count": null,
   "metadata": {},
   "outputs": [],
   "source": [
    "cdfRaw = mixedCDF(modRaw, gamma)\n",
    "cdfRaw.plotCDF()"
   ]
  },
  {
   "cell_type": "code",
   "execution_count": null,
   "metadata": {},
   "outputs": [],
   "source": [
    "# cuantiles de 'modRaw' para la distribución 'cdfHist'\n",
    "cdfHist.Po, cdfRaw.Po"
   ]
  },
  {
   "cell_type": "code",
   "execution_count": null,
   "metadata": {},
   "outputs": [],
   "source": []
  }
 ],
 "metadata": {
  "kernelspec": {
   "display_name": "Python 3",
   "language": "python",
   "name": "python3"
  },
  "language_info": {
   "codemirror_mode": {
    "name": "ipython",
    "version": 3
   },
   "file_extension": ".py",
   "mimetype": "text/x-python",
   "name": "python",
   "nbconvert_exporter": "python",
   "pygments_lexer": "ipython3",
   "version": "3.7.7"
  }
 },
 "nbformat": 4,
 "nbformat_minor": 4
}
