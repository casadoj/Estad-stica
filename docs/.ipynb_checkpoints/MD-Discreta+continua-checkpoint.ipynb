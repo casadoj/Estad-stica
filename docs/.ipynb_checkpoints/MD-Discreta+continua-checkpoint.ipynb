{
 "cells": [
  {
   "cell_type": "markdown",
   "metadata": {},
   "source": [
    "# Distribuciones mixtas - discreta + continua\n",
    "***\n",
    "\n",
    "_Autor:_    __Jesús Casado__ <br> _Revisión:_ __09/03/2020__ <br>\n",
    "\n",
    "__Introducción__<br>\n",
    "\n",
    "\n",
    "__Cosas que arreglar__ <br>\n",
    "\n",
    "\n",
    "__Índice__ <br>\n",
    "\n",
    "__[Cargar datos](#Cargar-datos)__ <br>\n",
    "\n",
    "__[Serie de máximos anuales](#Serie-de-máximos-anuales)__ <br>\n",
    "\n",
    "__[Peak over threshold](#Peak-over-threshold)__<br>\n",
    "[Selección de eventos](#Selección-de-eventos)<br>"
   ]
  },
  {
   "cell_type": "code",
   "execution_count": 1,
   "metadata": {},
   "outputs": [],
   "source": [
    "import numpy as np\n",
    "import pandas as pd\n",
    "import matplotlib.pyplot as plt\n",
    "%matplotlib inline\n",
    "import seaborn as sns; sns.set()\n",
    "\n",
    "import pomegranate as pg\n",
    "\n",
    "import os\n",
    "rutaBase = os.getcwd().replace('\\\\', '/') + '/'"
   ]
  },
  {
   "cell_type": "code",
   "execution_count": 2,
   "metadata": {},
   "outputs": [],
   "source": [
    "from scipy import stats"
   ]
  },
  {
   "cell_type": "code",
   "execution_count": 23,
   "metadata": {},
   "outputs": [],
   "source": [
    "from fitter import Fitter"
   ]
  },
  {
   "cell_type": "code",
   "execution_count": 3,
   "metadata": {},
   "outputs": [],
   "source": [
    "%run POT_funciones.ipynb"
   ]
  },
  {
   "cell_type": "code",
   "execution_count": 48,
   "metadata": {},
   "outputs": [],
   "source": [
    "# diccionario para llamar a las funciones de distribución a partir de 'string's\n",
    "DFdict = {'beta': stats.beta, 'expon': stats.expon, 'weibull_min': stats.weibull_min,\n",
    "          'gamma': stats.gamma, 'genextreme': stats.genextreme,\n",
    "          'genpareto': stats.genpareto, 'gumbel_r': stats.gumbel_r,\n",
    "          'norm': stats.norm, 'weibull_max': stats.weibull_max}"
   ]
  },
  {
   "cell_type": "code",
   "execution_count": 57,
   "metadata": {},
   "outputs": [],
   "source": [
    "class MD:\n",
    "    \n",
    "    def __init__(self, serie):\n",
    "        \"\"\"\n",
    "        \"\"\"\n",
    "        \n",
    "        self.serie = serie\n",
    "        \n",
    "        # probabilidad de 0\n",
    "        self.Po = np.sum(serie == 0) / len(serie)\n",
    "        \n",
    "    def fitCon(self, distributions, crit):\n",
    "        \"\"\"\"\"\"\n",
    "        \n",
    "        # serie de valores positivos\n",
    "        serie_ = self.serie[self.serie > 0]\n",
    "\n",
    "        # buscar distribución con mejor rendimiento\n",
    "        F = Fitter(serie_, distributions=distributions)\n",
    "        F.fit()\n",
    "        F.summary()\n",
    "        results = F.summary().sort_values(crit)\n",
    "        self.fitResults = results\n",
    "\n",
    "        # extraer la distribución con menor AIC (criterio de información de Akaike)\n",
    "        dist = results.index[0]\n",
    "        self.distCon = DFdict[dist]\n",
    "        self.pars = F.fitted_param[dist]\n",
    "        \n",
    "    def cdf(self, x):\n",
    "        \"\"\"\"\"\"\n",
    "        \n",
    "        # asegurar que 'x' es un array\n",
    "        x = np.array(x)\n",
    "\n",
    "        # 'array' donde guardar la probabilidad acumulada\n",
    "        cdf = self.Po + (1 - self.Po) * self.distCon.cdf(x, *self.pars)\n",
    "        \n",
    "        return cdf"
   ]
  },
  {
   "cell_type": "markdown",
   "metadata": {},
   "source": [
    "## Cargar datos"
   ]
  },
  {
   "cell_type": "code",
   "execution_count": 49,
   "metadata": {},
   "outputs": [
    {
     "data": {
      "text/html": [
       "<div>\n",
       "<style scoped>\n",
       "    .dataframe tbody tr th:only-of-type {\n",
       "        vertical-align: middle;\n",
       "    }\n",
       "\n",
       "    .dataframe tbody tr th {\n",
       "        vertical-align: top;\n",
       "    }\n",
       "\n",
       "    .dataframe thead th {\n",
       "        text-align: right;\n",
       "    }\n",
       "</style>\n",
       "<table border=\"1\" class=\"dataframe\">\n",
       "  <thead>\n",
       "    <tr style=\"text-align: right;\">\n",
       "      <th></th>\n",
       "      <th>Nivel</th>\n",
       "      <th>Precipitacion</th>\n",
       "    </tr>\n",
       "    <tr>\n",
       "      <th>fecha</th>\n",
       "      <th></th>\n",
       "      <th></th>\n",
       "    </tr>\n",
       "  </thead>\n",
       "  <tbody>\n",
       "    <tr>\n",
       "      <th>1981-01-01</th>\n",
       "      <td>4.40</td>\n",
       "      <td>0.0</td>\n",
       "    </tr>\n",
       "    <tr>\n",
       "      <th>1982-01-01</th>\n",
       "      <td>7.76</td>\n",
       "      <td>0.0</td>\n",
       "    </tr>\n",
       "    <tr>\n",
       "      <th>1983-01-01</th>\n",
       "      <td>9.01</td>\n",
       "      <td>0.0</td>\n",
       "    </tr>\n",
       "    <tr>\n",
       "      <th>1984-01-01</th>\n",
       "      <td>5.55</td>\n",
       "      <td>0.0</td>\n",
       "    </tr>\n",
       "    <tr>\n",
       "      <th>1985-01-01</th>\n",
       "      <td>6.95</td>\n",
       "      <td>0.0</td>\n",
       "    </tr>\n",
       "  </tbody>\n",
       "</table>\n",
       "</div>"
      ],
      "text/plain": [
       "            Nivel  Precipitacion\n",
       "fecha                           \n",
       "1981-01-01   4.40            0.0\n",
       "1982-01-01   7.76            0.0\n",
       "1983-01-01   9.01            0.0\n",
       "1984-01-01   5.55            0.0\n",
       "1985-01-01   6.95            0.0"
      ]
     },
     "execution_count": 49,
     "metadata": {},
     "output_type": "execute_result"
    }
   ],
   "source": [
    "data = pd.read_csv(rutaBase + '../data/Serie_extremos_marginal_P.csv', parse_dates=True,\n",
    "                   index_col=0)\n",
    "data.head()"
   ]
  },
  {
   "cell_type": "code",
   "execution_count": 69,
   "metadata": {},
   "outputs": [],
   "source": [
    "# Extraer serie de precipitación\n",
    "P = data.Precipitacion.values\n",
    "\n",
    "# Serie de días con precipitación\n",
    "P_ = P[P > 0].copy()"
   ]
  },
  {
   "cell_type": "code",
   "execution_count": 71,
   "metadata": {},
   "outputs": [
    {
     "name": "stdout",
     "output_type": "stream",
     "text": [
      "Fitted beta distribution with error=1.31899798736475)\n",
      "Fitted expon distribution with error=1.44603661177775)\n",
      "Fitted weibull_min distribution with error=1.370400007488623)\n",
      "Fitted gamma distribution with error=1.3199218890489632)\n",
      "Fitted genextreme distribution with error=1.3258476700213238)\n",
      "Fitted genpareto distribution with error=1.3120842379662552)\n",
      "Fitted gumbel_r distribution with error=1.5852999844647815)\n",
      "Fitted norm distribution with error=1.661698513446187)\n",
      "Fitted weibull_max distribution with error=1.8132659559677857)\n"
     ]
    },
    {
     "data": {
      "image/png": "[encoded data removed]",
      "text/plain": [
       "<Figure size 432x288 with 1 Axes>"
      ]
     },
     "metadata": {},
     "output_type": "display_data"
    }
   ],
   "source": [
    "# declarar la distribución mixta\n",
    "mdP = MD(P)\n",
    "\n",
    "# ajustar la distribución continua\n",
    "mdP.fitCon(DFdict.keys(), 'aic')\n",
    "mdP.fitResults\n",
    "\n",
    "# calcular la cdf\n",
    "Pmax = np.ceil(data.Precipitacion.max() / 10) * 10\n",
    "x = np.concatenate(([0], np.linspace(1e-10, Pmax)))\n",
    "cdf = mdP.cdf(x)"
   ]
  },
  {
   "cell_type": "code",
   "execution_count": 73,
   "metadata": {},
   "outputs": [],
   "source": [
    "# distribución empírica\n",
    "ecdfP_ = ECDF(P_)\n",
    "ecdfs = mdP.Po + (1 - mdP.Po) * ecdfP_(P_)"
   ]
  },
  {
   "cell_type": "code",
   "execution_count": 78,
   "metadata": {},
   "outputs": [
    {
     "data": {
      "image/png": "[encoded data removed]",
      "text/plain": [
       "<Figure size 432x288 with 1 Axes>"
      ]
     },
     "metadata": {},
     "output_type": "display_data"
    }
   ],
   "source": [
    "plt.plot(x, cdf, label='analítico')\n",
    "plt.scatter(P_, ecdfs, s=2, c='k', label='empírico')\n",
    "plt.xlim(0)\n",
    "plt.legend();"
   ]
  }
 ],
 "metadata": {
  "kernelspec": {
   "display_name": "Python 3",
   "language": "python",
   "name": "python3"
  },
  "language_info": {
   "codemirror_mode": {
    "name": "ipython",
    "version": 3
   },
   "file_extension": ".py",
   "mimetype": "text/x-python",
   "name": "python",
   "nbconvert_exporter": "python",
   "pygments_lexer": "ipython3",
   "version": "3.7.3"
  }
 },
 "nbformat": 4,
 "nbformat_minor": 4
}
