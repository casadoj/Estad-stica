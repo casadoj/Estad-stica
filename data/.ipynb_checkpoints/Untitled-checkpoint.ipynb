{
 "cells": [
  {
   "cell_type": "markdown",
   "metadata": {},
   "source": [
    "# Distribuciones mixtas - continua + continua\n",
    "***\n",
    "\n",
    "_Autor:_    __Jesús Casado__ <br> _Revisión:_ __09/03/2020__ <br>\n",
    "\n",
    "__Introducción__<br>\n",
    "\n",
    "\n",
    "__Cosas que arreglar__ <br>\n",
    "\n",
    "\n",
    "__Índice__ <br>\n",
    "\n",
    "__[Cargar datos](#Cargar-datos)__ <br>\n",
    "\n",
    "__[Serie de máximos anuales](#Serie-de-máximos-anuales)__ <br>\n",
    "\n",
    "__[Peak over threshold](#Peak-over-threshold)__<br>\n",
    "[Selección de eventos](#Selección-de-eventos)<br>"
   ]
  },
  {
   "cell_type": "code",
   "execution_count": 1,
   "metadata": {},
   "outputs": [],
   "source": [
    "import numpy as np\n",
    "import pandas as pd\n",
    "import matplotlib.pyplot as plt\n",
    "%matplotlib inline\n",
    "import seaborn as sns; sns.set()\n",
    "\n",
    "import pomegranate as pg\n",
    "\n",
    "import os\n",
    "rutaBase = os.getcwd().replace('\\\\', '/') + '/'"
   ]
  },
  {
   "cell_type": "code",
   "execution_count": 2,
   "metadata": {},
   "outputs": [],
   "source": [
    "from scipy import stats"
   ]
  },
  {
   "cell_type": "code",
   "execution_count": 3,
   "metadata": {},
   "outputs": [],
   "source": [
    "from fitter import Fitter"
   ]
  },
  {
   "cell_type": "code",
   "execution_count": 4,
   "metadata": {},
   "outputs": [
    {
     "name": "stderr",
     "output_type": "stream",
     "text": [
      "ERROR:root:File `'POT_funciones.ipynb.py'` not found.\n"
     ]
    }
   ],
   "source": [
    "%run POT_funciones.ipynb"
   ]
  },
  {
   "cell_type": "code",
   "execution_count": null,
   "metadata": {},
   "outputs": [],
   "source": []
  }
 ],
 "metadata": {
  "kernelspec": {
   "display_name": "Python 3",
   "language": "python",
   "name": "python3"
  },
  "language_info": {
   "codemirror_mode": {
    "name": "ipython",
    "version": 3
   },
   "file_extension": ".py",
   "mimetype": "text/x-python",
   "name": "python",
   "nbconvert_exporter": "python",
   "pygments_lexer": "ipython3",
   "version": "3.7.3"
  }
 },
 "nbformat": 4,
 "nbformat_minor": 4
}
